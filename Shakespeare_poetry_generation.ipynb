{
 "cells": [
  {
   "cell_type": "code",
   "execution_count": 1,
   "metadata": {
    "colab": {
     "base_uri": "https://localhost:8080/",
     "height": 63
    },
    "colab_type": "code",
    "id": "BOwsuGQQY9OL",
    "outputId": "dc53a001-d9c7-4d7b-c25c-f3394bfc36f0"
   },
   "outputs": [
    {
     "data": {
      "text/html": [
       "<p style=\"color: red;\">\n",
       "The default version of TensorFlow in Colab will soon switch to TensorFlow 2.x.<br>\n",
       "We recommend you <a href=\"https://www.tensorflow.org/guide/migrate\" target=\"_blank\">upgrade</a> now \n",
       "or ensure your notebook will continue to use TensorFlow 1.x via the <code>%tensorflow_version 1.x</code> magic:\n",
       "<a href=\"https://colab.research.google.com/notebooks/tensorflow_version.ipynb\" target=\"_blank\">more info</a>.</p>\n"
      ],
      "text/plain": [
       "<IPython.core.display.HTML object>"
      ]
     },
     "metadata": {
      "tags": []
     },
     "output_type": "display_data"
    }
   ],
   "source": [
    "from tensorflow.keras.preprocessing.sequence import pad_sequences\n",
    "from tensorflow.keras.layers import Embedding, LSTM, Dense, Dropout, Bidirectional\n",
    "from tensorflow.keras.preprocessing.text import Tokenizer\n",
    "from tensorflow.keras.models import Sequential\n",
    "from tensorflow.keras.optimizers import Adam\n",
    "from tensorflow.keras import regularizers\n",
    "import tensorflow.keras.utils as ku \n",
    "import numpy as np "
   ]
  },
  {
   "cell_type": "code",
   "execution_count": 2,
   "metadata": {
    "colab": {
     "base_uri": "https://localhost:8080/",
     "height": 204
    },
    "colab_type": "code",
    "id": "PRnDnCW-Z7qv",
    "outputId": "778378f9-984a-49f8-c2c4-7662d9eb0297"
   },
   "outputs": [
    {
     "name": "stdout",
     "output_type": "stream",
     "text": [
      "--2020-03-17 03:45:32--  https://storage.googleapis.com/laurencemoroney-blog.appspot.com/sonnets.txt\n",
      "Resolving storage.googleapis.com (storage.googleapis.com)... 108.177.127.128, 2a00:1450:4013:c05::80\n",
      "Connecting to storage.googleapis.com (storage.googleapis.com)|108.177.127.128|:443... connected.\n",
      "HTTP request sent, awaiting response... 200 OK\n",
      "Length: 93578 (91K) [text/plain]\n",
      "Saving to: ‘/tmp/sonnets.txt’\n",
      "\n",
      "\r",
      "/tmp/sonnets.txt      0%[                    ]       0  --.-KB/s               \r",
      "/tmp/sonnets.txt    100%[===================>]  91.38K  --.-KB/s    in 0.001s  \n",
      "\n",
      "2020-03-17 03:45:32 (143 MB/s) - ‘/tmp/sonnets.txt’ saved [93578/93578]\n",
      "\n"
     ]
    }
   ],
   "source": [
    "tokenizer = Tokenizer()\n",
    "!wget --no-check-certificate \\\n",
    "    https://storage.googleapis.com/laurencemoroney-blog.appspot.com/sonnets.txt \\\n",
    "    -O /tmp/sonnets.txt\n",
    "data = open('/tmp/sonnets.txt').read()\n",
    "\n",
    "corpus = data.lower().split(\"\\n\")\n",
    "\n",
    "\n",
    "tokenizer.fit_on_texts(corpus)\n",
    "total_words = len(tokenizer.word_index) + 1\n",
    "\n",
    "# create input sequences using list of tokens\n",
    "input_sequences = []\n",
    "for line in corpus:\n",
    "\ttoken_list = tokenizer.texts_to_sequences([line])[0]\n",
    "\tfor i in range(1, len(token_list)):\n",
    "\t\tn_gram_sequence = token_list[:i+1]\n",
    "\t\tinput_sequences.append(n_gram_sequence)\n",
    "\n",
    "\n",
    "# pad sequences \n",
    "max_sequence_len = max([len(x) for x in input_sequences])\n",
    "input_sequences = np.array(pad_sequences(input_sequences, maxlen=max_sequence_len, padding='pre'))\n",
    "\n",
    "# create predictors and label\n",
    "predictors, label = input_sequences[:,:-1],input_sequences[:,-1]\n",
    "\n",
    "label = ku.to_categorical(label, num_classes=total_words)"
   ]
  },
  {
   "cell_type": "code",
   "execution_count": 3,
   "metadata": {
    "colab": {
     "base_uri": "https://localhost:8080/",
     "height": 649
    },
    "colab_type": "code",
    "id": "w9vH8Y59ajYL",
    "outputId": "6621778e-a0a2-453f-d36e-0a2ec512f51e"
   },
   "outputs": [
    {
     "name": "stdout",
     "output_type": "stream",
     "text": [
      "WARNING:tensorflow:From /tensorflow-1.15.0/python3.6/tensorflow_core/python/keras/initializers.py:119: calling RandomUniform.__init__ (from tensorflow.python.ops.init_ops) with dtype is deprecated and will be removed in a future version.\n",
      "Instructions for updating:\n",
      "Call initializer instance with the dtype argument instead of passing it to the constructor\n",
      "WARNING:tensorflow:From /tensorflow-1.15.0/python3.6/tensorflow_core/python/ops/resource_variable_ops.py:1630: calling BaseResourceVariable.__init__ (from tensorflow.python.ops.resource_variable_ops) with constraint is deprecated and will be removed in a future version.\n",
      "Instructions for updating:\n",
      "If using Keras pass *_constraint arguments to layers.\n",
      "WARNING:tensorflow:From /tensorflow-1.15.0/python3.6/tensorflow_core/python/ops/init_ops.py:97: calling GlorotUniform.__init__ (from tensorflow.python.ops.init_ops) with dtype is deprecated and will be removed in a future version.\n",
      "Instructions for updating:\n",
      "Call initializer instance with the dtype argument instead of passing it to the constructor\n",
      "WARNING:tensorflow:From /tensorflow-1.15.0/python3.6/tensorflow_core/python/ops/init_ops.py:97: calling Orthogonal.__init__ (from tensorflow.python.ops.init_ops) with dtype is deprecated and will be removed in a future version.\n",
      "Instructions for updating:\n",
      "Call initializer instance with the dtype argument instead of passing it to the constructor\n",
      "WARNING:tensorflow:From /tensorflow-1.15.0/python3.6/tensorflow_core/python/ops/init_ops.py:97: calling Zeros.__init__ (from tensorflow.python.ops.init_ops) with dtype is deprecated and will be removed in a future version.\n",
      "Instructions for updating:\n",
      "Call initializer instance with the dtype argument instead of passing it to the constructor\n",
      "Model: \"sequential\"\n",
      "_________________________________________________________________\n",
      "Layer (type)                 Output Shape              Param #   \n",
      "=================================================================\n",
      "embedding (Embedding)        (None, 10, 100)           321100    \n",
      "_________________________________________________________________\n",
      "bidirectional (Bidirectional (None, 10, 300)           301200    \n",
      "_________________________________________________________________\n",
      "dropout (Dropout)            (None, 10, 300)           0         \n",
      "_________________________________________________________________\n",
      "lstm_1 (LSTM)                (None, 100)               160400    \n",
      "_________________________________________________________________\n",
      "dense (Dense)                (None, 1605)              162105    \n",
      "_________________________________________________________________\n",
      "dense_1 (Dense)              (None, 3211)              5156866   \n",
      "=================================================================\n",
      "Total params: 6,101,671\n",
      "Trainable params: 6,101,671\n",
      "Non-trainable params: 0\n",
      "_________________________________________________________________\n",
      "None\n"
     ]
    }
   ],
   "source": [
    "model = Sequential()\n",
    "model.add(Embedding(total_words, 100, input_length=max_sequence_len-1))\n",
    "model.add(Bidirectional(LSTM(150, return_sequences = True)))\n",
    "model.add(Dropout(0.2))\n",
    "model.add(LSTM(100))\n",
    "model.add(Dense(total_words/2, activation='relu', kernel_regularizer=regularizers.l2(0.01)))\n",
    "model.add(Dense(total_words, activation='softmax'))\n",
    "model.compile(loss='categorical_crossentropy', optimizer='adam', metrics=['accuracy'])\n",
    "print(model.summary())\n"
   ]
  },
  {
   "cell_type": "code",
   "execution_count": 4,
   "metadata": {
    "colab": {
     "base_uri": "https://localhost:8080/",
     "height": 1000
    },
    "colab_type": "code",
    "id": "AIg2f1HBxqof",
    "outputId": "b38f03f5-5255-4895-b1a8-3e2ff2b25573"
   },
   "outputs": [
    {
     "name": "stdout",
     "output_type": "stream",
     "text": [
      "WARNING:tensorflow:From /tensorflow-1.15.0/python3.6/tensorflow_core/python/ops/math_grad.py:1424: where (from tensorflow.python.ops.array_ops) is deprecated and will be removed in a future version.\n",
      "Instructions for updating:\n",
      "Use tf.where in 2.0, which has the same broadcast rule as np.where\n",
      "Train on 15462 samples\n",
      "Epoch 1/100\n",
      "15462/15462 [==============================] - 22s 1ms/sample - loss: 6.9086 - acc: 0.0215\n",
      "Epoch 2/100\n",
      "15462/15462 [==============================] - 20s 1ms/sample - loss: 6.5010 - acc: 0.0225\n",
      "Epoch 3/100\n",
      "15462/15462 [==============================] - 20s 1ms/sample - loss: 6.3913 - acc: 0.0266\n",
      "Epoch 4/100\n",
      "15462/15462 [==============================] - 20s 1ms/sample - loss: 6.2677 - acc: 0.0274\n",
      "Epoch 5/100\n",
      "15462/15462 [==============================] - 20s 1ms/sample - loss: 6.1760 - acc: 0.0341\n",
      "Epoch 6/100\n",
      "15462/15462 [==============================] - 19s 1ms/sample - loss: 6.0969 - acc: 0.0382\n",
      "Epoch 7/100\n",
      "15462/15462 [==============================] - 20s 1ms/sample - loss: 6.0076 - acc: 0.0384\n",
      "Epoch 8/100\n",
      "15462/15462 [==============================] - 19s 1ms/sample - loss: 5.9210 - acc: 0.0420\n",
      "Epoch 9/100\n",
      "15462/15462 [==============================] - 19s 1ms/sample - loss: 5.8304 - acc: 0.0475\n",
      "Epoch 10/100\n",
      "15462/15462 [==============================] - 20s 1ms/sample - loss: 5.7207 - acc: 0.0538\n",
      "Epoch 11/100\n",
      "15462/15462 [==============================] - 19s 1ms/sample - loss: 5.6113 - acc: 0.0594\n",
      "Epoch 12/100\n",
      "15462/15462 [==============================] - 19s 1ms/sample - loss: 5.5035 - acc: 0.0687\n",
      "Epoch 13/100\n",
      "15462/15462 [==============================] - 19s 1ms/sample - loss: 5.4005 - acc: 0.0749\n",
      "Epoch 14/100\n",
      "15462/15462 [==============================] - 19s 1ms/sample - loss: 5.2996 - acc: 0.0820\n",
      "Epoch 15/100\n",
      "15462/15462 [==============================] - 19s 1ms/sample - loss: 5.1943 - acc: 0.0918\n",
      "Epoch 16/100\n",
      "15462/15462 [==============================] - 19s 1ms/sample - loss: 5.0899 - acc: 0.1010\n",
      "Epoch 17/100\n",
      "15462/15462 [==============================] - 19s 1ms/sample - loss: 4.9861 - acc: 0.1074\n",
      "Epoch 18/100\n",
      "15462/15462 [==============================] - 19s 1ms/sample - loss: 4.8809 - acc: 0.1163\n",
      "Epoch 19/100\n",
      "15462/15462 [==============================] - 19s 1ms/sample - loss: 4.7838 - acc: 0.1253\n",
      "Epoch 20/100\n",
      "15462/15462 [==============================] - 19s 1ms/sample - loss: 4.6857 - acc: 0.1348\n",
      "Epoch 21/100\n",
      "15462/15462 [==============================] - 19s 1ms/sample - loss: 4.5843 - acc: 0.1427\n",
      "Epoch 22/100\n",
      "15462/15462 [==============================] - 19s 1ms/sample - loss: 4.4805 - acc: 0.1516\n",
      "Epoch 23/100\n",
      "15462/15462 [==============================] - 19s 1ms/sample - loss: 4.3817 - acc: 0.1620\n",
      "Epoch 24/100\n",
      "15462/15462 [==============================] - 19s 1ms/sample - loss: 4.2910 - acc: 0.1751\n",
      "Epoch 25/100\n",
      "15462/15462 [==============================] - 19s 1ms/sample - loss: 4.1958 - acc: 0.1841\n",
      "Epoch 26/100\n",
      "15462/15462 [==============================] - 19s 1ms/sample - loss: 4.0962 - acc: 0.1967\n",
      "Epoch 27/100\n",
      "15462/15462 [==============================] - 19s 1ms/sample - loss: 3.9960 - acc: 0.2125\n",
      "Epoch 28/100\n",
      "15462/15462 [==============================] - 19s 1ms/sample - loss: 3.9073 - acc: 0.2203\n",
      "Epoch 29/100\n",
      "15462/15462 [==============================] - 19s 1ms/sample - loss: 3.8115 - acc: 0.2345\n",
      "Epoch 30/100\n",
      "15462/15462 [==============================] - 19s 1ms/sample - loss: 3.7186 - acc: 0.2544\n",
      "Epoch 31/100\n",
      "15462/15462 [==============================] - 19s 1ms/sample - loss: 3.6316 - acc: 0.2693\n",
      "Epoch 32/100\n",
      "15462/15462 [==============================] - 18s 1ms/sample - loss: 3.5456 - acc: 0.2872\n",
      "Epoch 33/100\n",
      "15462/15462 [==============================] - 18s 1ms/sample - loss: 3.4580 - acc: 0.3035\n",
      "Epoch 34/100\n",
      "15462/15462 [==============================] - 19s 1ms/sample - loss: 3.3715 - acc: 0.3261\n",
      "Epoch 35/100\n",
      "15462/15462 [==============================] - 18s 1ms/sample - loss: 3.3007 - acc: 0.3399\n",
      "Epoch 36/100\n",
      "15462/15462 [==============================] - 18s 1ms/sample - loss: 3.2166 - acc: 0.3609\n",
      "Epoch 37/100\n",
      "15462/15462 [==============================] - 19s 1ms/sample - loss: 3.1395 - acc: 0.3750\n",
      "Epoch 38/100\n",
      "15462/15462 [==============================] - 19s 1ms/sample - loss: 3.0643 - acc: 0.3927\n",
      "Epoch 39/100\n",
      "15462/15462 [==============================] - 19s 1ms/sample - loss: 2.9960 - acc: 0.4091\n",
      "Epoch 40/100\n",
      "15462/15462 [==============================] - 19s 1ms/sample - loss: 2.9235 - acc: 0.4298\n",
      "Epoch 41/100\n",
      "15462/15462 [==============================] - 19s 1ms/sample - loss: 2.8561 - acc: 0.4376\n",
      "Epoch 42/100\n",
      "15462/15462 [==============================] - 19s 1ms/sample - loss: 2.8001 - acc: 0.4496\n",
      "Epoch 43/100\n",
      "15462/15462 [==============================] - 19s 1ms/sample - loss: 2.7287 - acc: 0.4710\n",
      "Epoch 44/100\n",
      "15462/15462 [==============================] - 19s 1ms/sample - loss: 2.6796 - acc: 0.4832\n",
      "Epoch 45/100\n",
      "15462/15462 [==============================] - 18s 1ms/sample - loss: 2.6171 - acc: 0.4955\n",
      "Epoch 46/100\n",
      "15462/15462 [==============================] - 19s 1ms/sample - loss: 2.5511 - acc: 0.5142\n",
      "Epoch 47/100\n",
      "15462/15462 [==============================] - 19s 1ms/sample - loss: 2.5133 - acc: 0.5231\n",
      "Epoch 48/100\n",
      "15462/15462 [==============================] - 19s 1ms/sample - loss: 2.4423 - acc: 0.5369\n",
      "Epoch 49/100\n",
      "15462/15462 [==============================] - 19s 1ms/sample - loss: 2.3945 - acc: 0.5465\n",
      "Epoch 50/100\n",
      "15462/15462 [==============================] - 19s 1ms/sample - loss: 2.3584 - acc: 0.5536\n",
      "Epoch 51/100\n",
      "15462/15462 [==============================] - 19s 1ms/sample - loss: 2.3080 - acc: 0.5652\n",
      "Epoch 52/100\n",
      "15462/15462 [==============================] - 19s 1ms/sample - loss: 2.2533 - acc: 0.5821\n",
      "Epoch 53/100\n",
      "15462/15462 [==============================] - 19s 1ms/sample - loss: 2.2153 - acc: 0.5917\n",
      "Epoch 54/100\n",
      "15462/15462 [==============================] - 18s 1ms/sample - loss: 2.1669 - acc: 0.5986\n",
      "Epoch 55/100\n",
      "15462/15462 [==============================] - 18s 1ms/sample - loss: 2.1261 - acc: 0.6054\n",
      "Epoch 56/100\n",
      "15462/15462 [==============================] - 19s 1ms/sample - loss: 2.0738 - acc: 0.6244\n",
      "Epoch 57/100\n",
      "15462/15462 [==============================] - 19s 1ms/sample - loss: 2.0423 - acc: 0.6264\n",
      "Epoch 58/100\n",
      "15462/15462 [==============================] - 18s 1ms/sample - loss: 2.0049 - acc: 0.6396\n",
      "Epoch 59/100\n",
      "15462/15462 [==============================] - 19s 1ms/sample - loss: 1.9722 - acc: 0.6437\n",
      "Epoch 60/100\n",
      "15462/15462 [==============================] - 19s 1ms/sample - loss: 1.9424 - acc: 0.6511\n",
      "Epoch 61/100\n",
      "15462/15462 [==============================] - 19s 1ms/sample - loss: 1.9130 - acc: 0.6540\n",
      "Epoch 62/100\n",
      "15462/15462 [==============================] - 19s 1ms/sample - loss: 1.8723 - acc: 0.6655\n",
      "Epoch 63/100\n",
      "15462/15462 [==============================] - 18s 1ms/sample - loss: 1.8387 - acc: 0.6687\n",
      "Epoch 64/100\n",
      "15462/15462 [==============================] - 19s 1ms/sample - loss: 1.7989 - acc: 0.6819\n",
      "Epoch 65/100\n",
      "15462/15462 [==============================] - 18s 1ms/sample - loss: 1.7817 - acc: 0.6834\n",
      "Epoch 66/100\n",
      "15462/15462 [==============================] - 19s 1ms/sample - loss: 1.7500 - acc: 0.6895\n",
      "Epoch 67/100\n",
      "15462/15462 [==============================] - 18s 1ms/sample - loss: 1.7091 - acc: 0.7009\n",
      "Epoch 68/100\n",
      "15462/15462 [==============================] - 18s 1ms/sample - loss: 1.6905 - acc: 0.7049\n",
      "Epoch 69/100\n",
      "15462/15462 [==============================] - 19s 1ms/sample - loss: 1.6596 - acc: 0.7068\n",
      "Epoch 70/100\n",
      "15462/15462 [==============================] - 18s 1ms/sample - loss: 1.6438 - acc: 0.7114\n",
      "Epoch 71/100\n",
      "15462/15462 [==============================] - 18s 1ms/sample - loss: 1.6184 - acc: 0.7205\n",
      "Epoch 72/100\n",
      "15462/15462 [==============================] - 18s 1ms/sample - loss: 1.5881 - acc: 0.7244\n",
      "Epoch 73/100\n",
      "15462/15462 [==============================] - 19s 1ms/sample - loss: 1.5645 - acc: 0.7293\n",
      "Epoch 74/100\n",
      "15462/15462 [==============================] - 18s 1ms/sample - loss: 1.5490 - acc: 0.7303\n",
      "Epoch 75/100\n",
      "15462/15462 [==============================] - 19s 1ms/sample - loss: 1.5464 - acc: 0.7304\n",
      "Epoch 76/100\n",
      "15462/15462 [==============================] - 19s 1ms/sample - loss: 1.5162 - acc: 0.7359\n",
      "Epoch 77/100\n",
      "15462/15462 [==============================] - 19s 1ms/sample - loss: 1.4918 - acc: 0.7420\n",
      "Epoch 78/100\n",
      "15462/15462 [==============================] - 19s 1ms/sample - loss: 1.4550 - acc: 0.7501\n",
      "Epoch 79/100\n",
      "15462/15462 [==============================] - 19s 1ms/sample - loss: 1.4444 - acc: 0.7504\n",
      "Epoch 80/100\n",
      "15462/15462 [==============================] - 19s 1ms/sample - loss: 1.4151 - acc: 0.7570\n",
      "Epoch 81/100\n",
      "15462/15462 [==============================] - 19s 1ms/sample - loss: 1.4021 - acc: 0.7614\n",
      "Epoch 82/100\n",
      "15462/15462 [==============================] - 19s 1ms/sample - loss: 1.3937 - acc: 0.7614\n",
      "Epoch 83/100\n",
      "15462/15462 [==============================] - 18s 1ms/sample - loss: 1.3775 - acc: 0.7620\n",
      "Epoch 84/100\n",
      "15462/15462 [==============================] - 18s 1ms/sample - loss: 1.3612 - acc: 0.7674\n",
      "Epoch 85/100\n",
      "15462/15462 [==============================] - 19s 1ms/sample - loss: 1.3578 - acc: 0.7653\n",
      "Epoch 86/100\n",
      "15462/15462 [==============================] - 19s 1ms/sample - loss: 1.3197 - acc: 0.7765\n",
      "Epoch 87/100\n",
      "15462/15462 [==============================] - 18s 1ms/sample - loss: 1.3057 - acc: 0.7753\n",
      "Epoch 88/100\n",
      "15462/15462 [==============================] - 19s 1ms/sample - loss: 1.3022 - acc: 0.7760\n",
      "Epoch 89/100\n",
      "15462/15462 [==============================] - 18s 1ms/sample - loss: 1.2879 - acc: 0.7802\n",
      "Epoch 90/100\n",
      "15462/15462 [==============================] - 19s 1ms/sample - loss: 1.2653 - acc: 0.7806\n",
      "Epoch 91/100\n",
      "15462/15462 [==============================] - 18s 1ms/sample - loss: 1.2559 - acc: 0.7888\n",
      "Epoch 92/100\n",
      "15462/15462 [==============================] - 18s 1ms/sample - loss: 1.2500 - acc: 0.7851\n",
      "Epoch 93/100\n",
      "15462/15462 [==============================] - 18s 1ms/sample - loss: 1.2373 - acc: 0.7850\n",
      "Epoch 94/100\n",
      "15462/15462 [==============================] - 19s 1ms/sample - loss: 1.2275 - acc: 0.7873\n",
      "Epoch 95/100\n",
      "15462/15462 [==============================] - 19s 1ms/sample - loss: 1.2124 - acc: 0.7921\n",
      "Epoch 96/100\n",
      "15462/15462 [==============================] - 18s 1ms/sample - loss: 1.1909 - acc: 0.7938\n",
      "Epoch 97/100\n",
      "15462/15462 [==============================] - 18s 1ms/sample - loss: 1.1924 - acc: 0.7939\n",
      "Epoch 98/100\n",
      "15462/15462 [==============================] - 19s 1ms/sample - loss: 1.1861 - acc: 0.7933\n",
      "Epoch 99/100\n",
      "15462/15462 [==============================] - 19s 1ms/sample - loss: 1.1787 - acc: 0.7947\n",
      "Epoch 100/100\n",
      "15462/15462 [==============================] - 19s 1ms/sample - loss: 1.1575 - acc: 0.8028\n"
     ]
    }
   ],
   "source": [
    " history = model.fit(predictors, label, epochs=100, verbose=1)"
   ]
  },
  {
   "cell_type": "code",
   "execution_count": 5,
   "metadata": {
    "colab": {
     "base_uri": "https://localhost:8080/",
     "height": 545
    },
    "colab_type": "code",
    "id": "1fXTEO3GJ282",
    "outputId": "6d6562c6-fdeb-4a7c-85a3-74e6f8235d9f"
   },
   "outputs": [
    {
     "data": {
      "image/png": "[encoded data removed]",
      "text/plain": [
       "<Figure size 432x288 with 1 Axes>"
      ]
     },
     "metadata": {
      "tags": []
     },
     "output_type": "display_data"
    },
    {
     "data": {
      "image/png": "[encoded data removed]",
      "text/plain": [
       "<Figure size 432x288 with 1 Axes>"
      ]
     },
     "metadata": {
      "tags": []
     },
     "output_type": "display_data"
    }
   ],
   "source": [
    "import matplotlib.pyplot as plt\n",
    "acc = history.history['acc']\n",
    "loss = history.history['loss']\n",
    "\n",
    "epochs = range(len(acc))\n",
    "\n",
    "plt.plot(epochs, acc, 'b', label='Training accuracy')\n",
    "plt.title('Training accuracy')\n",
    "\n",
    "plt.figure()\n",
    "\n",
    "plt.plot(epochs, loss, 'b', label='Training Loss')\n",
    "plt.title('Training loss')\n",
    "plt.legend()\n",
    "\n",
    "plt.show()"
   ]
  },
  {
   "cell_type": "code",
   "execution_count": 9,
   "metadata": {
    "colab": {
     "base_uri": "https://localhost:8080/",
     "height": 54
    },
    "colab_type": "code",
    "id": "6Vc6PHgxa6Hm",
    "outputId": "57f8c189-f407-474f-cc67-f88d97d8e9e0"
   },
   "outputs": [
    {
     "name": "stdout",
     "output_type": "stream",
     "text": [
      "All that glitters is not gold account to worms your state be tongue saith true prove heaven strong level be face bearing place 'tis 'will ' back confounds no fired tuned sounds must see give thee not we burn leaves erred down her height do give give dead place held should pry lie so old ' well did grow leaves prove men stand men green not was kind be kind shall see me alone was true one slain slain told mine sight doth truly bright ' we burn creature did speak we speak do you see you still look he so writ is told old eye\n"
     ]
    }
   ],
   "source": [
    "seed_text = \"All that glitters is not gold\"\n",
    "next_words = 100\n",
    "  \n",
    "for _ in range(next_words):\n",
    "\ttoken_list = tokenizer.texts_to_sequences([seed_text])[0]\n",
    "\ttoken_list = pad_sequences([token_list], maxlen=max_sequence_len-1, padding='pre')\n",
    "\tpredicted = model.predict_classes(token_list, verbose=0)\n",
    "\toutput_word = \"\"\n",
    "\tfor word, index in tokenizer.word_index.items():\n",
    "\t\tif index == predicted:\n",
    "\t\t\toutput_word = word\n",
    "\t\t\tbreak\n",
    "\tseed_text += \" \" + output_word\n",
    "print(seed_text)"
   ]
  }
 ],
 "metadata": {
  "accelerator": "GPU",
  "colab": {
   "name": "NLP_Week4_Exercise_Shakespeare_Answer.ipynb",
   "provenance": []
  },
  "kernelspec": {
   "display_name": "Python 3",
   "language": "python",
   "name": "python3"
  },
  "language_info": {
   "codemirror_mode": {
    "name": "ipython",
    "version": 3
   },
   "file_extension": ".py",
   "mimetype": "text/x-python",
   "name": "python",
   "nbconvert_exporter": "python",
   "pygments_lexer": "ipython3",
   "version": "3.7.3"
  }
 },
 "nbformat": 4,
 "nbformat_minor": 1
}
